{
  "nbformat": 4,
  "nbformat_minor": 0,
  "metadata": {
    "colab": {
      "provenance": [],
      "authorship_tag": "ABX9TyPMS2KUYWFDzQDt1na7Plwb",
      "include_colab_link": true
    },
    "kernelspec": {
      "name": "python3",
      "display_name": "Python 3"
    },
    "language_info": {
      "name": "python"
    }
  },
  "cells": [
    {
      "cell_type": "markdown",
      "metadata": {
        "id": "view-in-github",
        "colab_type": "text"
      },
      "source": [
        "<a href=\"https://colab.research.google.com/github/Prophetcze/MPA-MLF/blob/main/Lab_01/Lab_01.ipynb\" target=\"_parent\"><img src=\"https://colab.research.google.com/assets/colab-badge.svg\" alt=\"Open In Colab\"/></a>"
      ]
    },
    {
      "cell_type": "code",
      "execution_count": null,
      "metadata": {
        "colab": {
          "base_uri": "https://localhost:8080/"
        },
        "id": "-RuNI7YWaSVl",
        "outputId": "902aa8bc-c99c-4df0-9dd8-164522b4390d"
      },
      "outputs": [
        {
          "output_type": "stream",
          "name": "stdout",
          "text": [
            "\n",
            "X \n",
            "X X \n",
            "X X X \n",
            "X X X X \n",
            "X X X X X \r\n",
            "X X X X \r\n",
            "X X X \r\n",
            "X X \r\n",
            "X \r\n"
          ]
        }
      ],
      "source": [
        "#### Excersise 1.1\n",
        "\n",
        "rows = 5\n",
        "x = 0\n",
        "\n",
        "for i in range(rows):\n",
        "    for j in range(i):\n",
        "        print(\"X\", end=' ')\n",
        "    print('')\n",
        "\n",
        "for i in range(rows, 0, -1):\n",
        "    x += 1\n",
        "    for j in range(1, i + 1):\n",
        "        print(\"X\", end=' ')\n",
        "    print('\\r')"
      ]
    },
    {
      "cell_type": "code",
      "source": [
        "#### Excersise 1.2\n",
        "\n",
        "input_str = \"n45as29@#8ss6\"\n",
        "result = 0\n",
        "\n",
        "for item in input_str:\n",
        "    if isinstance(item, int) or (\n",
        "            hasattr(item, 'isdigit') and item.isdigit()\n",
        "    ):\n",
        "        result += int(item)\n",
        "\n",
        "print(result)"
      ],
      "metadata": {
        "colab": {
          "base_uri": "https://localhost:8080/"
        },
        "id": "KNZqUnytdDBS",
        "outputId": "c87c50e5-2abf-4f63-ae6f-7ab898691f65"
      },
      "execution_count": null,
      "outputs": [
        {
          "output_type": "stream",
          "name": "stdout",
          "text": [
            "34\n"
          ]
        }
      ]
    },
    {
      "cell_type": "code",
      "source": [
        "#### Excersise 1.3\n",
        "\n",
        "def int_to_binary_string(number):\n",
        "    if number == 0:\n",
        "        return \"0\"\n",
        "\n",
        "    binary_string = \"\"\n",
        "    while number > 0:\n",
        "        remainder = number % 2\n",
        "        binary_string = str(remainder) + binary_string\n",
        "        number //= 2\n",
        "\n",
        "    return binary_string\n",
        "\n",
        "try:\n",
        "    user_input = input(\"Please enter an integer: \")\n",
        "    integer = int(user_input)\n",
        "    binary = int_to_binary_string(integer)\n",
        "    print(f\"The binary representation is: {binary}\")\n",
        "\n",
        "except ValueError:\n",
        "    print(\"Invalid input. Please enter a valid integer.\")\n"
      ],
      "metadata": {
        "colab": {
          "base_uri": "https://localhost:8080/"
        },
        "id": "W9d60Q36en8i",
        "outputId": "b6440f41-5907-4985-b1c5-cfa1b049760d"
      },
      "execution_count": null,
      "outputs": [
        {
          "output_type": "stream",
          "name": "stdout",
          "text": [
            "Please enter an integer: 52\n",
            "The binary representation is: 110100\n"
          ]
        }
      ]
    },
    {
      "cell_type": "code",
      "source": [
        "#### Excersise 1.4\n",
        "\n",
        "def fibonacci(n):\n",
        "    fibonacci_list = []\n",
        "    a, b = 0, 1\n",
        "\n",
        "    while a < n:\n",
        "        fibonacci_list.append(a)\n",
        "        a, b = b, a + b\n",
        "\n",
        "    return fibonacci_list\n",
        "\n",
        "user_input = int(input(\"Please enter an integer: \"))\n",
        "\n",
        "fibonacci_result = fibonacci(user_input)\n",
        "print(f\"{fibonacci_result}\")\n"
      ],
      "metadata": {
        "colab": {
          "base_uri": "https://localhost:8080/"
        },
        "id": "6ZGhi2CUjYTs",
        "outputId": "e80c8dd0-ab47-4af7-d7f0-e7d988a263d9"
      },
      "execution_count": null,
      "outputs": [
        {
          "output_type": "stream",
          "name": "stdout",
          "text": [
            "Please enter an integer: 10\n",
            "[0, 1, 1, 2, 3, 5, 8]\n"
          ]
        }
      ]
    },
    {
      "cell_type": "code",
      "source": [
        "#### Excersise 1.5\n",
        "\n",
        "import random\n",
        "\n",
        "def get_user_choice():\n",
        "    while True:\n",
        "        user_choice = input(\"Enter your choice (rock, paper, or scissors): \").lower()\n",
        "        if user_choice in ['rock', 'paper', 'scissors']:\n",
        "            return user_choice\n",
        "        else:\n",
        "            print(\"Invalid choice. Please enter rock, paper, or scissors.\")\n",
        "\n",
        "def get_computer_choice():\n",
        "    choices = ['rock', 'paper', 'scissors']\n",
        "    return random.choice(choices)\n",
        "\n",
        "def determine_winner(user_choice, computer_choice):\n",
        "    if user_choice == computer_choice:\n",
        "        return \"It's a tie!\"\n",
        "    elif (\n",
        "        (user_choice == 'rock' and computer_choice == 'scissors') or\n",
        "        (user_choice == 'paper' and computer_choice == 'rock') or\n",
        "        (user_choice == 'scissors' and computer_choice == 'paper')\n",
        "    ):\n",
        "        return \"You win!\"\n",
        "    else:\n",
        "        return \"Computer wins!\"\n",
        "\n",
        "def play_game():\n",
        "    print(\"Welcome to Rock, Paper, Scissors!\")\n",
        "\n",
        "    # Get the number of rounds from the user\n",
        "    rounds = int(input(\"Enter the number of rounds to play: \"))\n",
        "\n",
        "    player_score = 0\n",
        "    computer_score = 0\n",
        "\n",
        "    for round_number in range(1, rounds + 1):\n",
        "        print(f\"\\nRound {round_number}:\")\n",
        "\n",
        "        user_choice = get_user_choice()\n",
        "        computer_choice = get_computer_choice()\n",
        "\n",
        "        print(f\"You chose {user_choice}.\")\n",
        "        print(f\"Computer chose {computer_choice}.\")\n",
        "\n",
        "        result = determine_winner(user_choice, computer_choice)\n",
        "        print(result)\n",
        "\n",
        "        # Update scores\n",
        "        if \"You win\" in result:\n",
        "            player_score += 1\n",
        "        elif \"Computer wins\" in result:\n",
        "            computer_score += 1\n",
        "\n",
        "    # Display final scores\n",
        "    print(\"\\nGame over!\")\n",
        "    print(f\"Player Score: {player_score}\")\n",
        "    print(f\"Computer Score: {computer_score}\")\n",
        "\n",
        "# Run the game\n",
        "play_game()\n"
      ],
      "metadata": {
        "colab": {
          "base_uri": "https://localhost:8080/"
        },
        "id": "c2Y9YBXimdGk",
        "outputId": "a6d69dce-f6b5-40ad-9836-710ccd0cbfb9"
      },
      "execution_count": null,
      "outputs": [
        {
          "output_type": "stream",
          "name": "stdout",
          "text": [
            "Welcome to Rock, Paper, Scissors!\n",
            "Enter the number of rounds to play: 2\n",
            "\n",
            "Round 1:\n",
            "Enter your choice (rock, paper, or scissors): rock\n",
            "You chose rock.\n",
            "Computer chose paper.\n",
            "Computer wins!\n",
            "\n",
            "Round 2:\n",
            "Enter your choice (rock, paper, or scissors): Paper\n",
            "You chose paper.\n",
            "Computer chose rock.\n",
            "You win!\n",
            "\n",
            "Game over!\n",
            "Player Score: 1\n",
            "Computer Score: 1\n"
          ]
        }
      ]
    },
    {
      "cell_type": "code",
      "source": [
        "#### Excersise 2.1\n",
        "\n",
        "import numpy as np\n",
        "\n",
        "# Create a 5x5 array with numbers from 25 to 0\n",
        "initial_array = np.arange(24, -1, -1).reshape(5, 5)\n",
        "\n",
        "print(\"Original Array:\")\n",
        "print(initial_array)\n",
        "\n",
        "def set_numbers_below_threshold(array, threshold):\n",
        "    # Set all numbers smaller than the threshold to 0\n",
        "    array[array < threshold] = 0\n",
        "    return array\n",
        "\n",
        "user_threshold = int(input(\"Enter the threshold value: \"))\n",
        "result_array = set_numbers_below_threshold(initial_array.copy(), user_threshold)\n",
        "\n",
        "print(f\"\\nArray after setting numbers below {user_threshold} to 0:\")\n",
        "print(result_array)"
      ],
      "metadata": {
        "colab": {
          "base_uri": "https://localhost:8080/"
        },
        "id": "OQOAJKhgoBar",
        "outputId": "4e482689-c2ce-43dc-e6ce-4c029ac4fc97"
      },
      "execution_count": null,
      "outputs": [
        {
          "output_type": "stream",
          "name": "stdout",
          "text": [
            "Original Array:\n",
            "[[24 23 22 21 20]\n",
            " [19 18 17 16 15]\n",
            " [14 13 12 11 10]\n",
            " [ 9  8  7  6  5]\n",
            " [ 4  3  2  1  0]]\n",
            "Enter the threshold value: 10\n",
            "\n",
            "Array after setting numbers below 10 to 0:\n",
            "[[24 23 22 21 20]\n",
            " [19 18 17 16 15]\n",
            " [14 13 12 11 10]\n",
            " [ 0  0  0  0  0]\n",
            " [ 0  0  0  0  0]]\n"
          ]
        }
      ]
    },
    {
      "cell_type": "code",
      "source": [
        "#### Excersise 2.2\n",
        "\n",
        "import numpy as np\n",
        "import matplotlib.pyplot as plt\n",
        "\n",
        "numbs = {\n",
        "    \"1\": np.array([[0, 1, 1], [1, 0, 1], [0, 0, 1], [0, 0, 1], [0, 0, 1]]),  # 1\n",
        "    \"2\": np.array([[1, 1, 1], [0, 0, 1], [1, 1, 1], [1, 0, 0], [1, 1, 1]]),  # 2\n",
        "    \"3\": np.array([[1, 1, 1], [0, 0, 1], [1, 1, 1], [0, 0, 1], [1, 1, 1]]),  # 3\n",
        "    \"4\": np.array([[1, 0, 1], [1, 0, 1], [1, 1, 1], [0, 0, 1], [0, 0, 1]]),  # 4\n",
        "    \"5\": np.array([[1, 1, 1], [1, 0, 0], [1, 1, 1], [0, 0, 1], [1, 1, 1]]),  # 5\n",
        "    \"6\": np.array([[1, 1, 1], [1, 0, 0], [1, 1, 1], [1, 0, 1], [1, 1, 1]]),  # 6\n",
        "    \"7\": np.array([[1, 1, 1], [0, 0, 1], [0, 0, 1], [0, 0, 1], [0, 0, 1]]),  # 7\n",
        "    \"8\": np.array([[1, 1, 1], [1, 0, 1], [1, 1, 1], [1, 0, 1], [1, 1, 1]]),  # 8\n",
        "    \"9\": np.array([[1, 1, 1], [1, 0, 1], [1, 1, 1], [0, 0, 1], [1, 1, 1]]),  # 9\n",
        "    \"0\": np.array([[1, 1, 1], [1, 0, 1], [1, 0, 1], [1, 0, 1], [1, 1, 1]]),  # 0\n",
        "    \".\": np.array([[0, 0, 0], [0, 0, 0], [0, 0, 0], [0, 0, 0], [0, 0, 0]]),  # Decimal point\n",
        "}\n",
        "\n",
        "def digit_display(ax, digit, x, y):\n",
        "    segments = numbs.get(digit, np.zeros((5, 3), dtype=int))\n",
        "\n",
        "    for i in range(5):\n",
        "        for j in range(3):\n",
        "            if segments[i, j] == 1:\n",
        "                ax.plot([x + j, x + j + 1], [y - i, y - i], 'k-', linewidth=2)\n",
        "\n",
        "def display_number(number):\n",
        "    fig, ax = plt.subplots()\n",
        "\n",
        "    number_str = str(number)\n",
        "    digit_arrays = [numbs.get(char, np.zeros((5, 3), dtype=int)) for char in number_str]\n",
        "\n",
        "    # Check if the number is a float and add a decimal point if necessary\n",
        "    if \".\" in number_str:\n",
        "        digit_arrays.insert(number_str.index(\".\"), numbs[\".\"])\n",
        "\n",
        "    concatenated_array = np.concatenate(digit_arrays, axis=1)\n",
        "\n",
        "    rows, cols = concatenated_array.shape\n",
        "    for i in range(rows):\n",
        "        for j in range(cols):\n",
        "            if concatenated_array[i, j] == 1:\n",
        "                ax.plot([j, j + 1], [i, i], 'k-', linewidth=2)\n",
        "\n",
        "    ax.axis('equal')\n",
        "    ax.axis('off')\n",
        "    plt.show()\n",
        "\n",
        "# Example usage:\n",
        "user_input = float(input(\"Enter an arbitrary number: \"))\n",
        "display_number(user_input)\n"
      ],
      "metadata": {
        "colab": {
          "base_uri": "https://localhost:8080/",
          "height": 423
        },
        "id": "dUuYCp6PoF3U",
        "outputId": "20ba1e87-92e7-4417-ca5f-e8cc689af188"
      },
      "execution_count": null,
      "outputs": [
        {
          "name": "stdout",
          "output_type": "stream",
          "text": [
            "Enter an arbitrary number: 2050\n"
          ]
        },
        {
          "output_type": "display_data",
          "data": {
            "text/plain": [
              "<Figure size 640x480 with 1 Axes>"
            ],
            "image/png": "[encoded data removed]"
          },
          "metadata": {}
        }
      ]
    },
    {
      "cell_type": "code",
      "source": [
        "#### Excersise 3\n",
        "\n",
        "import numpy as np\n",
        "import pandas as pd\n",
        "import matplotlib.pyplot as plt\n",
        "\n",
        "# Load the California housing dataset\n",
        "from sklearn.datasets import fetch_california_housing\n",
        "california_housing = fetch_california_housing()\n",
        "dataset = pd.DataFrame(california_housing.data, columns=california_housing.feature_names)\n",
        "dataset['target'] = california_housing.target\n",
        "\n",
        "# Check what dataset.describe() does\n",
        "print(dataset.describe())\n",
        "\n",
        "# Display all rows where total_bedrooms column is bigger than 310\n",
        "print(\"\\nRows where total_bedrooms > 310:\")\n",
        "print(dataset[dataset['total_bedrooms'] > 310])\n",
        "\n",
        "# Drop the first and last row\n",
        "dataset = dataset.iloc[1:-1]\n",
        "\n",
        "# Save mean of values in the households column to a variable\n",
        "households_mean = dataset['households'].mean()\n",
        "\n",
        "# Display number of households in the graph\n",
        "plt.scatter(dataset.index, dataset['households'], label='Number of Households', color='blue')\n",
        "plt.axhline(y=households_mean, color='red', linestyle='-', label='Mean')\n",
        "plt.xlabel('ID')\n",
        "plt.ylabel('Number of Households')\n",
        "plt.legend()\n",
        "plt.show()\n",
        "\n",
        "# Check if any of the columns contain NaN values, if yes, replace NaN values with the arithmetic mean\n",
        "if dataset.isnull().values.any():\n",
        "    dataset = dataset.fillna(dataset.mean())\n",
        "\n",
        "# Display lat and long into plot, lat would be on x-axis and long on y-axis\n",
        "plt.scatter(dataset['latitude'], dataset['longitude'])\n",
        "plt.xlabel('Latitude')\n",
        "plt.ylabel('Longitude')\n",
        "plt.title('Latitude vs Longitude')\n",
        "plt.show()\n",
        "\n",
        "# Choose two arbitrary columns and normalize all values using min-max normalization\n",
        "arbitrary_column1 = 'population'\n",
        "arbitrary_column2 = 'median_income'\n",
        "\n",
        "dataset[arbitrary_column1] = (dataset[arbitrary_column1] - dataset[arbitrary_column1].min()) / (dataset[arbitrary_column1].max() - dataset[arbitrary_column1].min())\n",
        "dataset[arbitrary_column2] = (dataset[arbitrary_column2] - dataset[arbitrary_column2].min()) / (dataset[arbitrary_column2].max() - dataset[arbitrary_column2].min())\n",
        "\n",
        "# Create a Correlation Matrix from all columns\n",
        "correlation_matrix = dataset.corr()\n",
        "print(\"\\nCorrelation Matrix:\")\n",
        "print(correlation_matrix)\n"
      ],
      "metadata": {
        "colab": {
          "base_uri": "https://localhost:8080/",
          "height": 861
        },
        "id": "UCem-X4trWMs",
        "outputId": "166dbf98-bf5a-407c-98b4-8080fc48c91c"
      },
      "execution_count": null,
      "outputs": [
        {
          "output_type": "stream",
          "name": "stdout",
          "text": [
            "             MedInc      HouseAge      AveRooms     AveBedrms    Population  \\\n",
            "count  20640.000000  20640.000000  20640.000000  20640.000000  20640.000000   \n",
            "mean       3.870671     28.639486      5.429000      1.096675   1425.476744   \n",
            "std        1.899822     12.585558      2.474173      0.473911   1132.462122   \n",
            "min        0.499900      1.000000      0.846154      0.333333      3.000000   \n",
            "25%        2.563400     18.000000      4.440716      1.006079    787.000000   \n",
            "50%        3.534800     29.000000      5.229129      1.048780   1166.000000   \n",
            "75%        4.743250     37.000000      6.052381      1.099526   1725.000000   \n",
            "max       15.000100     52.000000    141.909091     34.066667  35682.000000   \n",
            "\n",
            "           AveOccup      Latitude     Longitude        target  \n",
            "count  20640.000000  20640.000000  20640.000000  20640.000000  \n",
            "mean       3.070655     35.631861   -119.569704      2.068558  \n",
            "std       10.386050      2.135952      2.003532      1.153956  \n",
            "min        0.692308     32.540000   -124.350000      0.149990  \n",
            "25%        2.429741     33.930000   -121.800000      1.196000  \n",
            "50%        2.818116     34.260000   -118.490000      1.797000  \n",
            "75%        3.282261     37.710000   -118.010000      2.647250  \n",
            "max     1243.333333     41.950000   -114.310000      5.000010  \n",
            "\n",
            "Rows where total_bedrooms > 310:\n"
          ]
        },
        {
          "output_type": "error",
          "ename": "KeyError",
          "evalue": "'total_bedrooms'",
          "traceback": [
            "\u001b[0;31m---------------------------------------------------------------------------\u001b[0m",
            "\u001b[0;31mKeyError\u001b[0m                                  Traceback (most recent call last)",
            "\u001b[0;32m/usr/local/lib/python3.10/dist-packages/pandas/core/indexes/base.py\u001b[0m in \u001b[0;36mget_loc\u001b[0;34m(self, key, method, tolerance)\u001b[0m\n\u001b[1;32m   3801\u001b[0m             \u001b[0;32mtry\u001b[0m\u001b[0;34m:\u001b[0m\u001b[0;34m\u001b[0m\u001b[0;34m\u001b[0m\u001b[0m\n\u001b[0;32m-> 3802\u001b[0;31m                 \u001b[0;32mreturn\u001b[0m \u001b[0mself\u001b[0m\u001b[0;34m.\u001b[0m\u001b[0m_engine\u001b[0m\u001b[0;34m.\u001b[0m\u001b[0mget_loc\u001b[0m\u001b[0;34m(\u001b[0m\u001b[0mcasted_key\u001b[0m\u001b[0;34m)\u001b[0m\u001b[0;34m\u001b[0m\u001b[0;34m\u001b[0m\u001b[0m\n\u001b[0m\u001b[1;32m   3803\u001b[0m             \u001b[0;32mexcept\u001b[0m \u001b[0mKeyError\u001b[0m \u001b[0;32mas\u001b[0m \u001b[0merr\u001b[0m\u001b[0;34m:\u001b[0m\u001b[0;34m\u001b[0m\u001b[0;34m\u001b[0m\u001b[0m\n",
            "\u001b[0;32m/usr/local/lib/python3.10/dist-packages/pandas/_libs/index.pyx\u001b[0m in \u001b[0;36mpandas._libs.index.IndexEngine.get_loc\u001b[0;34m()\u001b[0m\n",
            "\u001b[0;32m/usr/local/lib/python3.10/dist-packages/pandas/_libs/index.pyx\u001b[0m in \u001b[0;36mpandas._libs.index.IndexEngine.get_loc\u001b[0;34m()\u001b[0m\n",
            "\u001b[0;32mpandas/_libs/hashtable_class_helper.pxi\u001b[0m in \u001b[0;36mpandas._libs.hashtable.PyObjectHashTable.get_item\u001b[0;34m()\u001b[0m\n",
            "\u001b[0;32mpandas/_libs/hashtable_class_helper.pxi\u001b[0m in \u001b[0;36mpandas._libs.hashtable.PyObjectHashTable.get_item\u001b[0;34m()\u001b[0m\n",
            "\u001b[0;31mKeyError\u001b[0m: 'total_bedrooms'",
            "\nThe above exception was the direct cause of the following exception:\n",
            "\u001b[0;31mKeyError\u001b[0m                                  Traceback (most recent call last)",
            "\u001b[0;32m<ipython-input-62-60bc4ce6cf28>\u001b[0m in \u001b[0;36m<cell line: 18>\u001b[0;34m()\u001b[0m\n\u001b[1;32m     16\u001b[0m \u001b[0;31m# Display all rows where total_bedrooms column is bigger than 310\u001b[0m\u001b[0;34m\u001b[0m\u001b[0;34m\u001b[0m\u001b[0m\n\u001b[1;32m     17\u001b[0m \u001b[0mprint\u001b[0m\u001b[0;34m(\u001b[0m\u001b[0;34m\"\\nRows where total_bedrooms > 310:\"\u001b[0m\u001b[0;34m)\u001b[0m\u001b[0;34m\u001b[0m\u001b[0;34m\u001b[0m\u001b[0m\n\u001b[0;32m---> 18\u001b[0;31m \u001b[0mprint\u001b[0m\u001b[0;34m(\u001b[0m\u001b[0mdataset\u001b[0m\u001b[0;34m[\u001b[0m\u001b[0mdataset\u001b[0m\u001b[0;34m[\u001b[0m\u001b[0;34m'total_bedrooms'\u001b[0m\u001b[0;34m]\u001b[0m \u001b[0;34m>\u001b[0m \u001b[0;36m310\u001b[0m\u001b[0;34m]\u001b[0m\u001b[0;34m)\u001b[0m\u001b[0;34m\u001b[0m\u001b[0;34m\u001b[0m\u001b[0m\n\u001b[0m\u001b[1;32m     19\u001b[0m \u001b[0;34m\u001b[0m\u001b[0m\n\u001b[1;32m     20\u001b[0m \u001b[0;31m# Drop the first and last row\u001b[0m\u001b[0;34m\u001b[0m\u001b[0;34m\u001b[0m\u001b[0m\n",
            "\u001b[0;32m/usr/local/lib/python3.10/dist-packages/pandas/core/frame.py\u001b[0m in \u001b[0;36m__getitem__\u001b[0;34m(self, key)\u001b[0m\n\u001b[1;32m   3805\u001b[0m             \u001b[0;32mif\u001b[0m \u001b[0mself\u001b[0m\u001b[0;34m.\u001b[0m\u001b[0mcolumns\u001b[0m\u001b[0;34m.\u001b[0m\u001b[0mnlevels\u001b[0m \u001b[0;34m>\u001b[0m \u001b[0;36m1\u001b[0m\u001b[0;34m:\u001b[0m\u001b[0;34m\u001b[0m\u001b[0;34m\u001b[0m\u001b[0m\n\u001b[1;32m   3806\u001b[0m                 \u001b[0;32mreturn\u001b[0m \u001b[0mself\u001b[0m\u001b[0;34m.\u001b[0m\u001b[0m_getitem_multilevel\u001b[0m\u001b[0;34m(\u001b[0m\u001b[0mkey\u001b[0m\u001b[0;34m)\u001b[0m\u001b[0;34m\u001b[0m\u001b[0;34m\u001b[0m\u001b[0m\n\u001b[0;32m-> 3807\u001b[0;31m             \u001b[0mindexer\u001b[0m \u001b[0;34m=\u001b[0m \u001b[0mself\u001b[0m\u001b[0;34m.\u001b[0m\u001b[0mcolumns\u001b[0m\u001b[0;34m.\u001b[0m\u001b[0mget_loc\u001b[0m\u001b[0;34m(\u001b[0m\u001b[0mkey\u001b[0m\u001b[0;34m)\u001b[0m\u001b[0;34m\u001b[0m\u001b[0;34m\u001b[0m\u001b[0m\n\u001b[0m\u001b[1;32m   3808\u001b[0m             \u001b[0;32mif\u001b[0m \u001b[0mis_integer\u001b[0m\u001b[0;34m(\u001b[0m\u001b[0mindexer\u001b[0m\u001b[0;34m)\u001b[0m\u001b[0;34m:\u001b[0m\u001b[0;34m\u001b[0m\u001b[0;34m\u001b[0m\u001b[0m\n\u001b[1;32m   3809\u001b[0m                 \u001b[0mindexer\u001b[0m \u001b[0;34m=\u001b[0m \u001b[0;34m[\u001b[0m\u001b[0mindexer\u001b[0m\u001b[0;34m]\u001b[0m\u001b[0;34m\u001b[0m\u001b[0;34m\u001b[0m\u001b[0m\n",
            "\u001b[0;32m/usr/local/lib/python3.10/dist-packages/pandas/core/indexes/base.py\u001b[0m in \u001b[0;36mget_loc\u001b[0;34m(self, key, method, tolerance)\u001b[0m\n\u001b[1;32m   3802\u001b[0m                 \u001b[0;32mreturn\u001b[0m \u001b[0mself\u001b[0m\u001b[0;34m.\u001b[0m\u001b[0m_engine\u001b[0m\u001b[0;34m.\u001b[0m\u001b[0mget_loc\u001b[0m\u001b[0;34m(\u001b[0m\u001b[0mcasted_key\u001b[0m\u001b[0;34m)\u001b[0m\u001b[0;34m\u001b[0m\u001b[0;34m\u001b[0m\u001b[0m\n\u001b[1;32m   3803\u001b[0m             \u001b[0;32mexcept\u001b[0m \u001b[0mKeyError\u001b[0m \u001b[0;32mas\u001b[0m \u001b[0merr\u001b[0m\u001b[0;34m:\u001b[0m\u001b[0;34m\u001b[0m\u001b[0;34m\u001b[0m\u001b[0m\n\u001b[0;32m-> 3804\u001b[0;31m                 \u001b[0;32mraise\u001b[0m \u001b[0mKeyError\u001b[0m\u001b[0;34m(\u001b[0m\u001b[0mkey\u001b[0m\u001b[0;34m)\u001b[0m \u001b[0;32mfrom\u001b[0m \u001b[0merr\u001b[0m\u001b[0;34m\u001b[0m\u001b[0;34m\u001b[0m\u001b[0m\n\u001b[0m\u001b[1;32m   3805\u001b[0m             \u001b[0;32mexcept\u001b[0m \u001b[0mTypeError\u001b[0m\u001b[0;34m:\u001b[0m\u001b[0;34m\u001b[0m\u001b[0;34m\u001b[0m\u001b[0m\n\u001b[1;32m   3806\u001b[0m                 \u001b[0;31m# If we have a listlike key, _check_indexing_error will raise\u001b[0m\u001b[0;34m\u001b[0m\u001b[0;34m\u001b[0m\u001b[0m\n",
            "\u001b[0;31mKeyError\u001b[0m: 'total_bedrooms'"
          ]
        }
      ]
    }
  ]
}